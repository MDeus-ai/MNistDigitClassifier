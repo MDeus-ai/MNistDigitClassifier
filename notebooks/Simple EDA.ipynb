{
 "cells": [
  {
   "cell_type": "markdown",
   "source": [
    "## IMPORT LIBRARIES"
   ],
   "metadata": {
    "collapsed": false
   },
   "id": "67cbbe33583075fc"
  },
  {
   "cell_type": "code",
   "execution_count": 1,
   "id": "initial_id",
   "metadata": {
    "collapsed": true,
    "ExecuteTime": {
     "end_time": "2024-03-23T16:22:21.861394Z",
     "start_time": "2024-03-23T16:22:20.557413700Z"
    }
   },
   "outputs": [],
   "source": [
    "import numpy as np\n",
    "import pandas as pd\n",
    "import zipfile"
   ]
  },
  {
   "cell_type": "markdown",
   "source": [
    "## UNZIP DATASET"
   ],
   "metadata": {
    "collapsed": false
   },
   "id": "dd590d612611638b"
  },
  {
   "cell_type": "code",
   "outputs": [],
   "source": [
    "zip_path = '../datasets/mnist_digits.zip'\n",
    "extract_to = '../datasets'\n",
    "\n",
    "with zipfile.ZipFile(zip_path, 'r') as zip_ref:\n",
    "    zip_ref.extractall(extract_to)"
   ],
   "metadata": {
    "collapsed": false,
    "ExecuteTime": {
     "end_time": "2024-03-23T16:22:23.109678700Z",
     "start_time": "2024-03-23T16:22:21.862391800Z"
    }
   },
   "id": "13675de47a9bee19",
   "execution_count": 2
  },
  {
   "cell_type": "markdown",
   "source": [
    "## READ DATASET"
   ],
   "metadata": {
    "collapsed": false
   },
   "id": "ee9a385d2dc43838"
  },
  {
   "cell_type": "code",
   "outputs": [],
   "source": [
    "mnist_trainset = pd.read_csv(\"../datasets/mnist_train.csv\")\n",
    "X = mnist_trainset.iloc[:, 1:].values\n",
    "y = mnist_trainset.iloc[:, 0].values"
   ],
   "metadata": {
    "collapsed": false,
    "ExecuteTime": {
     "end_time": "2024-03-23T16:22:30.733724300Z",
     "start_time": "2024-03-23T16:22:23.114665900Z"
    }
   },
   "id": "b17a807b80ff3fa",
   "execution_count": 3
  },
  {
   "cell_type": "code",
   "outputs": [
    {
     "name": "stdout",
     "output_type": "stream",
     "text": [
      "<class 'pandas.core.frame.DataFrame'>\n",
      "RangeIndex: 60000 entries, 0 to 59999\n",
      "Columns: 785 entries, label to 28x28\n",
      "dtypes: int64(785)\n",
      "memory usage: 359.3 MB\n"
     ]
    }
   ],
   "source": [
    "mnist_trainset.info()"
   ],
   "metadata": {
    "collapsed": false,
    "ExecuteTime": {
     "end_time": "2024-03-23T16:22:30.837090100Z",
     "start_time": "2024-03-23T16:22:30.738711200Z"
    }
   },
   "id": "4409de7d85069c09",
   "execution_count": 4
  },
  {
   "cell_type": "markdown",
   "source": [
    "## A FUNCTION TO RESHAPE & PLOT IMAGES"
   ],
   "metadata": {
    "collapsed": false
   },
   "id": "61aab4802a7d1bbe"
  },
  {
   "cell_type": "code",
   "outputs": [],
   "source": [
    "import matplotlib.pyplot as plt\n",
    "\n",
    "def draw_mnist(pixel_array):\n",
    "    pixel_grid = pixel_array.reshape((28, 28))\n",
    "    img_plot = plt.imshow(pixel_grid, cmap=\"Greys\", interpolation=\"antialiased\")\n",
    "    return img_plot"
   ],
   "metadata": {
    "collapsed": false,
    "ExecuteTime": {
     "end_time": "2024-03-23T16:22:32.329516500Z",
     "start_time": "2024-03-23T16:22:30.844069500Z"
    }
   },
   "id": "5eca0cee68c872d3",
   "execution_count": 5
  },
  {
   "cell_type": "code",
   "outputs": [
    {
     "data": {
      "text/plain": "<Figure size 640x480 with 1 Axes>",
      "image/png": "[encoded data removed]"
     },
     "metadata": {},
     "output_type": "display_data"
    }
   ],
   "source": [
    "# DISPLAYING A RANDOM IMAGE FROM THE MNIST DATASET\n",
    "some_digit = X[123]\n",
    "\n",
    "draw_mnist(some_digit)\n",
    "plt.show()"
   ],
   "metadata": {
    "collapsed": false,
    "ExecuteTime": {
     "end_time": "2024-03-23T16:22:36.425664400Z",
     "start_time": "2024-03-23T16:22:36.258671100Z"
    }
   },
   "id": "263c94f105d41299",
   "execution_count": 7
  },
  {
   "cell_type": "code",
   "outputs": [],
   "source": [],
   "metadata": {
    "collapsed": false,
    "ExecuteTime": {
     "end_time": "2024-03-23T16:22:32.704369800Z",
     "start_time": "2024-03-23T16:22:32.692878100Z"
    }
   },
   "id": "43dc37aa57c3af2c",
   "execution_count": 6
  }
 ],
 "metadata": {
  "kernelspec": {
   "display_name": "Python 3",
   "language": "python",
   "name": "python3"
  },
  "language_info": {
   "codemirror_mode": {
    "name": "ipython",
    "version": 2
   },
   "file_extension": ".py",
   "mimetype": "text/x-python",
   "name": "python",
   "nbconvert_exporter": "python",
   "pygments_lexer": "ipython2",
   "version": "2.7.6"
  }
 },
 "nbformat": 4,
 "nbformat_minor": 5
}
