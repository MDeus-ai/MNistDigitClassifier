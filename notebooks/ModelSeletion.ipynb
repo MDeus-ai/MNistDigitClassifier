{
 "cells": [
  {
   "cell_type": "markdown",
   "source": [
    "- As I look for the most capable classification algorithm, models like randomForests, SVM and gradient\n",
    "boosted algorithms like XGBoost will be tested to find one which gives the highest accuracy.\n",
    "\n",
    "- Ensemble techniques like bagging and pasting, voting classification & adaptive boost will also be tested\n",
    "- Models will be evaluated using metrics like the confusion matrix, and accuracy \n",
    "- The most capable model will be selected and fine-tuned for improved performance"
   ],
   "metadata": {
    "collapsed": false
   },
   "id": "fcca96c3b347734e"
  },
  {
   "cell_type": "markdown",
   "source": [
    "### IMPORTING LIBRARIES"
   ],
   "metadata": {
    "collapsed": false
   },
   "id": "69ae0c959ded687"
  },
  {
   "cell_type": "code",
   "execution_count": 5,
   "id": "initial_id",
   "metadata": {
    "collapsed": true,
    "ExecuteTime": {
     "end_time": "2024-03-24T13:44:53.334403200Z",
     "start_time": "2024-03-24T13:44:53.252548300Z"
    }
   },
   "outputs": [],
   "source": [
    "import numpy as np\n",
    "import pandas as pd"
   ]
  },
  {
   "cell_type": "markdown",
   "source": [
    "### SPLITTING THE DATASETS"
   ],
   "metadata": {
    "collapsed": false
   },
   "id": "6ca469e1b386cd1"
  },
  {
   "cell_type": "code",
   "outputs": [],
   "source": [
    "train_data = pd.read_csv('../datasets/mnist_train.csv')\n",
    "test_data = pd.read_csv('../datasets/mnist_test.csv')\n",
    "\n",
    "X_train, y_train = train_data.iloc[:, 1:].values, train_data.iloc[:, 0].values\n",
    "X_test, y_test = test_data.iloc[:, 1:].values, test_data.iloc[:, 0].values "
   ],
   "metadata": {
    "collapsed": false,
    "ExecuteTime": {
     "end_time": "2024-03-24T13:44:58.087674500Z",
     "start_time": "2024-03-24T13:44:53.335401100Z"
    }
   },
   "id": "3465b018796392fb",
   "execution_count": 6
  },
  {
   "cell_type": "markdown",
   "source": [
    "# TRAINING & EVALUATING CLASSIFICATION ALGORITHMS"
   ],
   "metadata": {
    "collapsed": false
   },
   "id": "618f4bc4c768539c"
  },
  {
   "cell_type": "markdown",
   "source": [
    "- ### IMPORTING CLASSIFICATION ALGORITHMS"
   ],
   "metadata": {
    "collapsed": false
   },
   "id": "a0449ac3a6bbe8ba"
  },
  {
   "cell_type": "code",
   "outputs": [],
   "source": [
    "from sklearn.ensemble import RandomForestClassifier\n",
    "from sklearn.svm import SVC\n",
    "from xgboost import XGBClassifier\n",
    "\n",
    "forestClassifier = RandomForestClassifier() # The Random Forests Classifier  \n",
    "vectorClassifier = SVC(kernel='rbf') # A Support Vector Machine with rbf kernel\n",
    "xgb = XGBClassifier() # An XGBoost classifier\n",
    "\n",
    "# A list of models\n",
    "raw_models = [forestClassifier, vectorClassifier, xgb]"
   ],
   "metadata": {
    "collapsed": false,
    "ExecuteTime": {
     "end_time": "2024-03-24T13:44:58.104632300Z",
     "start_time": "2024-03-24T13:44:58.082757700Z"
    }
   },
   "id": "62a4df36b28299b9",
   "execution_count": 7
  },
  {
   "cell_type": "markdown",
   "source": [
    "- ### MODEL TRAINING FUNCTION\n",
    "Takes a list of models & the training dataset, trains and returns a list of trained models"
   ],
   "metadata": {
    "collapsed": false
   },
   "id": "506db93c101c6c54"
  },
  {
   "cell_type": "code",
   "outputs": [],
   "source": [
    "def trainer(model_list, X_train_, y_train_):\n",
    "    _trained_models = []\n",
    "    for model in model_list:\n",
    "        _trained_models.append(model.fit(X_train_, y_train_))\n",
    "    \n",
    "    return _trained_models\n",
    "\n",
    "\n",
    "trained_models = trainer(raw_models, X_train, y_train)"
   ],
   "metadata": {
    "collapsed": false,
    "ExecuteTime": {
     "end_time": "2024-03-24T13:55:17.833056300Z",
     "start_time": "2024-03-24T13:44:58.097649400Z"
    }
   },
   "id": "35a8b44a4411cdde",
   "execution_count": 8
  },
  {
   "cell_type": "markdown",
   "source": [
    "- ### MODEL PREDICTION AND EVALUATION ON TEST DATA\n",
    "A class that takes a list of trained models, make predictions on the test data and evaluates their peformance"
   ],
   "metadata": {
    "collapsed": false
   },
   "id": "ae2480ae7362271"
  },
  {
   "cell_type": "code",
   "outputs": [],
   "source": [
    "from sklearn.metrics import accuracy_score\n",
    "\n",
    "class model_eval:\n",
    "    def __init__(self, X_test_, y_test_, trained_models_):\n",
    "        self.X_test_ = X_test_\n",
    "        self.y_test_ = y_test_\n",
    "        self.trained_models_ = trained_models_\n",
    "        self.metrics = []\n",
    "        \n",
    "    \n",
    "    def model_predict(self):\n",
    "        for model in self.trained_models_:\n",
    "            self.metrics.append({model: f\"Accuracy {accuracy_score(model.predict(self.X_test_), self.y_test_)}\"})\n",
    "    def display_metrics(self): \n",
    "        return self.metrics     "
   ],
   "metadata": {
    "collapsed": false,
    "ExecuteTime": {
     "end_time": "2024-03-24T14:06:26.154463Z",
     "start_time": "2024-03-24T14:06:26.144052500Z"
    }
   },
   "id": "b91058802d49cf20",
   "execution_count": 15
  },
  {
   "cell_type": "code",
   "outputs": [],
   "source": [
    "model_eval = model_eval(X_test, y_test, trained_models)"
   ],
   "metadata": {
    "collapsed": false,
    "ExecuteTime": {
     "end_time": "2024-03-24T14:06:29.856234Z",
     "start_time": "2024-03-24T14:06:29.848060100Z"
    }
   },
   "id": "f29908a5f20eed97",
   "execution_count": 16
  },
  {
   "cell_type": "code",
   "outputs": [],
   "source": [
    "model_eval.model_predict()"
   ],
   "metadata": {
    "collapsed": false,
    "ExecuteTime": {
     "end_time": "2024-03-24T14:08:17.632780300Z",
     "start_time": "2024-03-24T14:06:33.664505800Z"
    }
   },
   "id": "b2081bf0ffd1b45",
   "execution_count": 17
  },
  {
   "cell_type": "code",
   "outputs": [
    {
     "data": {
      "text/plain": "[{RandomForestClassifier(): 'Accuracy 0.9698'},\n {SVC(): 'Accuracy 0.9792'},\n {XGBClassifier(base_score=None, booster=None, callbacks=None,\n                colsample_bylevel=None, colsample_bynode=None,\n                colsample_bytree=None, device=None, early_stopping_rounds=None,\n                enable_categorical=False, eval_metric=None, feature_types=None,\n                gamma=None, grow_policy=None, importance_type=None,\n                interaction_constraints=None, learning_rate=None, max_bin=None,\n                max_cat_threshold=None, max_cat_to_onehot=None,\n                max_delta_step=None, max_depth=None, max_leaves=None,\n                min_child_weight=None, missing=nan, monotone_constraints=None,\n                multi_strategy=None, n_estimators=None, n_jobs=None,\n                num_parallel_tree=None, objective='multi:softprob', ...): 'Accuracy 0.9795'}]"
     },
     "execution_count": 18,
     "metadata": {},
     "output_type": "execute_result"
    }
   ],
   "source": [
    "model_eval.display_metrics()"
   ],
   "metadata": {
    "collapsed": false,
    "ExecuteTime": {
     "end_time": "2024-03-24T14:08:17.666343800Z",
     "start_time": "2024-03-24T14:08:17.635774100Z"
    }
   },
   "id": "8dbd2e8a2bfd6cc8",
   "execution_count": 18
  },
  {
   "cell_type": "code",
   "outputs": [
    {
     "data": {
      "text/plain": "<Figure size 640x480 with 1 Axes>",
      "image/png": "[encoded data removed]"
     },
     "metadata": {},
     "output_type": "display_data"
    }
   ],
   "source": [
    "import matplotlib.pyplot as plt\n",
    "plt.bar([\"XGBoostClassifier\", \"SVC\", \"RandomForestClassifier\"], [0.9795, 0.9792, 0.9698])\n",
    "plt.show()"
   ],
   "metadata": {
    "collapsed": false,
    "ExecuteTime": {
     "end_time": "2024-03-24T14:21:24.848982600Z",
     "start_time": "2024-03-24T14:21:24.746406900Z"
    }
   },
   "id": "1c1658da4aedf0dc",
   "execution_count": 23
  },
  {
   "cell_type": "markdown",
   "source": [
    "# USING ENSEMBLE METHODS"
   ],
   "metadata": {
    "collapsed": false
   },
   "id": "77de4578ddb5b16"
  },
  {
   "cell_type": "code",
   "outputs": [],
   "source": [],
   "metadata": {
    "collapsed": false
   },
   "id": "1109f750ff87f3ca"
  }
 ],
 "metadata": {
  "kernelspec": {
   "display_name": "Python 3",
   "language": "python",
   "name": "python3"
  },
  "language_info": {
   "codemirror_mode": {
    "name": "ipython",
    "version": 2
   },
   "file_extension": ".py",
   "mimetype": "text/x-python",
   "name": "python",
   "nbconvert_exporter": "python",
   "pygments_lexer": "ipython2",
   "version": "2.7.6"
  }
 },
 "nbformat": 4,
 "nbformat_minor": 5
}
