{
 "cells": [
  {
   "cell_type": "markdown",
   "source": [
    "## IMPORT LIBRARIES"
   ],
   "metadata": {
    "collapsed": false
   },
   "id": "67cbbe33583075fc"
  },
  {
   "cell_type": "code",
   "execution_count": 7,
   "id": "initial_id",
   "metadata": {
    "collapsed": true,
    "ExecuteTime": {
     "end_time": "2024-03-23T15:36:26.925270700Z",
     "start_time": "2024-03-23T15:36:26.919286900Z"
    }
   },
   "outputs": [],
   "source": [
    "import numpy as np\n",
    "import pandas as pd\n",
    "import zipfile"
   ]
  },
  {
   "cell_type": "markdown",
   "source": [
    "## UNZIP DATASET"
   ],
   "metadata": {
    "collapsed": false
   },
   "id": "dd590d612611638b"
  },
  {
   "cell_type": "code",
   "outputs": [],
   "source": [
    "zip_path = '../datasets/mnist_digits.zip'\n",
    "extract_to = '../datasets'\n",
    "\n",
    "with zipfile.ZipFile(zip_path, 'r') as zip_ref:\n",
    "    zip_ref.extractall(extract_to)"
   ],
   "metadata": {
    "collapsed": false,
    "ExecuteTime": {
     "end_time": "2024-03-23T15:36:28.886117800Z",
     "start_time": "2024-03-23T15:36:27.930229200Z"
    }
   },
   "id": "13675de47a9bee19",
   "execution_count": 8
  },
  {
   "cell_type": "markdown",
   "source": [
    "## READ DATASET"
   ],
   "metadata": {
    "collapsed": false
   },
   "id": "ee9a385d2dc43838"
  },
  {
   "cell_type": "code",
   "outputs": [],
   "source": [
    "mnist_trainset = pd.read_csv(\"../datasets/mnist_train.csv\")\n",
    "X = mnist_trainset.iloc[:, 1:].values\n",
    "y = mnist_trainset.iloc[:, 0].values"
   ],
   "metadata": {
    "collapsed": false,
    "ExecuteTime": {
     "end_time": "2024-03-23T15:59:28.039248200Z",
     "start_time": "2024-03-23T15:59:24.143028700Z"
    }
   },
   "id": "b17a807b80ff3fa",
   "execution_count": 25
  },
  {
   "cell_type": "code",
   "outputs": [
    {
     "name": "stdout",
     "output_type": "stream",
     "text": [
      "<class 'pandas.core.frame.DataFrame'>\n",
      "RangeIndex: 60000 entries, 0 to 59999\n",
      "Columns: 785 entries, label to 28x28\n",
      "dtypes: int64(785)\n",
      "memory usage: 359.3 MB\n"
     ]
    }
   ],
   "source": [
    "mnist_trainset.info()"
   ],
   "metadata": {
    "collapsed": false,
    "ExecuteTime": {
     "end_time": "2024-03-23T15:58:56.753054400Z",
     "start_time": "2024-03-23T15:58:56.737781700Z"
    }
   },
   "id": "4409de7d85069c09",
   "execution_count": 23
  },
  {
   "cell_type": "markdown",
   "source": [
    "## A FUNCTION TO RESHAPE & PLOT IMAGES"
   ],
   "metadata": {
    "collapsed": false
   },
   "id": "61aab4802a7d1bbe"
  },
  {
   "cell_type": "code",
   "outputs": [],
   "source": [
    "import matplotlib.pyplot as plt\n",
    "\n",
    "def draw_mnist(pixel_array):\n",
    "    pixel_grid = pixel_array.reshape((28, 28))\n",
    "    img_plot = plt.imshow(pixel_grid, cmap=\"Greys\", interpolation=\"antialiased\")\n",
    "    return img_plot"
   ],
   "metadata": {
    "collapsed": false,
    "ExecuteTime": {
     "end_time": "2024-03-23T15:59:00.638121300Z",
     "start_time": "2024-03-23T15:59:00.630135500Z"
    }
   },
   "id": "5eca0cee68c872d3",
   "execution_count": 24
  },
  {
   "cell_type": "code",
   "outputs": [
    {
     "data": {
      "text/plain": "<Figure size 640x480 with 1 Axes>",
      "image/png": "[encoded data removed]"
     },
     "metadata": {},
     "output_type": "display_data"
    }
   ],
   "source": [
    "# DISPLAYING A RANDOM IMAGE FROM THE MNIST DATASET\n",
    "some_digit = X[122]\n",
    "\n",
    "draw_mnist(some_digit)\n",
    "plt.show()"
   ],
   "metadata": {
    "collapsed": false,
    "ExecuteTime": {
     "end_time": "2024-03-23T16:05:26.835349400Z",
     "start_time": "2024-03-23T16:05:26.699328600Z"
    }
   },
   "id": "263c94f105d41299",
   "execution_count": 38
  },
  {
   "cell_type": "code",
   "outputs": [],
   "source": [],
   "metadata": {
    "collapsed": false
   },
   "id": "43dc37aa57c3af2c"
  }
 ],
 "metadata": {
  "kernelspec": {
   "display_name": "Python 3",
   "language": "python",
   "name": "python3"
  },
  "language_info": {
   "codemirror_mode": {
    "name": "ipython",
    "version": 2
   },
   "file_extension": ".py",
   "mimetype": "text/x-python",
   "name": "python",
   "nbconvert_exporter": "python",
   "pygments_lexer": "ipython2",
   "version": "2.7.6"
  }
 },
 "nbformat": 4,
 "nbformat_minor": 5
}
