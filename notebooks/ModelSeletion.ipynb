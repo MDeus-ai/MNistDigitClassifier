{
 "cells": [
  {
   "cell_type": "markdown",
   "source": [
    "- As I look for the most capable classification algorithm, models like randomForests, SVM and gradient\n",
    "boosted algorithms like XGBoost will be tested to find one which gives the highest accuracy.\n",
    "\n",
    "- Ensemble techniques like bagging and pasting, voting classification & adaptive boost will also be tested\n",
    "- Models will be evaluated using metrics like the confusion matrix, and accuracy \n",
    "- The most capable model will be selected and fine-tuned for improved performance"
   ],
   "metadata": {
    "collapsed": false
   },
   "id": "fcca96c3b347734e"
  },
  {
   "cell_type": "markdown",
   "source": [
    "### IMPORTING LIBRARIES"
   ],
   "metadata": {
    "collapsed": false
   },
   "id": "69ae0c959ded687"
  },
  {
   "cell_type": "code",
   "execution_count": 8,
   "id": "initial_id",
   "metadata": {
    "collapsed": true,
    "ExecuteTime": {
     "end_time": "2024-03-23T20:08:01.880202700Z",
     "start_time": "2024-03-23T20:08:01.869228300Z"
    }
   },
   "outputs": [],
   "source": [
    "import numpy as np\n",
    "import pandas as pd"
   ]
  },
  {
   "cell_type": "markdown",
   "source": [
    "### SPLITTING THE DATASETS"
   ],
   "metadata": {
    "collapsed": false
   },
   "id": "6ca469e1b386cd1"
  },
  {
   "cell_type": "code",
   "outputs": [],
   "source": [
    "train_data = pd.read_csv('../datasets/mnist_train.csv')\n",
    "test_data = pd.read_csv('../datasets/mnist_test.csv')\n",
    "\n",
    "X_train, y_train = train_data.iloc[:, 1:].values, train_data.iloc[:, 0].values\n",
    "X_test, y_test = test_data.iloc[:, 1:].values, test_data.iloc[:, 0].values "
   ],
   "metadata": {
    "collapsed": false,
    "ExecuteTime": {
     "end_time": "2024-03-23T20:08:06.114732100Z",
     "start_time": "2024-03-23T20:08:01.890177300Z"
    }
   },
   "id": "3465b018796392fb",
   "execution_count": 9
  },
  {
   "cell_type": "markdown",
   "source": [
    "# TRAINING & EVALUATING CLASSIFICATION ALGORITHMS"
   ],
   "metadata": {
    "collapsed": false
   },
   "id": "618f4bc4c768539c"
  },
  {
   "cell_type": "markdown",
   "source": [
    "- ### IMPORTING CLASSIFICATION ALGORITHMS"
   ],
   "metadata": {
    "collapsed": false
   },
   "id": "a0449ac3a6bbe8ba"
  },
  {
   "cell_type": "code",
   "outputs": [],
   "source": [
    "from sklearn.ensemble import RandomForestClassifier\n",
    "from sklearn.svm import SVC\n",
    "\n",
    "forestClassifier = RandomForestClassifier() # The Random Forests Classifier  \n",
    "vectorClassifier = SVC(kernel='rbf') # A Support Vector Machine with rbf kernel\n",
    "\n",
    "# A list of models\n",
    "raw_models = [forestClassifier, vectorClassifier]"
   ],
   "metadata": {
    "collapsed": false
   },
   "id": "62a4df36b28299b9",
   "execution_count": 14
  },
  {
   "cell_type": "markdown",
   "source": [
    "- ### MODEL TRAINING FUNCTION\n",
    "Takes a list of models & the training dataset, trains and returns a list of trained models"
   ],
   "metadata": {
    "collapsed": false
   },
   "id": "506db93c101c6c54"
  },
  {
   "cell_type": "code",
   "outputs": [],
   "source": [
    "def trainer(model_list, X_train_, y_train_):\n",
    "    _trained_models = []\n",
    "    for model in model_list:\n",
    "        _trained_models.append(model.fit(X_train_, y_train_))\n",
    "    \n",
    "    return _trained_models\n",
    "\n",
    "\n",
    "trained_models = trainer(raw_models, X_train, y_train)"
   ],
   "metadata": {
    "collapsed": false,
    "ExecuteTime": {
     "end_time": "2024-03-23T20:18:32.280567800Z",
     "start_time": "2024-03-23T20:13:58.840583700Z"
    }
   },
   "id": "35a8b44a4411cdde",
   "execution_count": 15
  },
  {
   "cell_type": "markdown",
   "source": [
    "- ### MODEL PREDICTION AND EVALUATION ON TEST DATA\n",
    "A class that takes a list of trained models, make predictions on the test data and evaluates their peformance"
   ],
   "metadata": {
    "collapsed": false
   },
   "id": "ae2480ae7362271"
  },
  {
   "cell_type": "code",
   "outputs": [],
   "source": [
    "from sklearn.metrics import accuracy_score, confusion_matrix\n",
    "\n",
    "class model_eval:\n",
    "    def __init__(self, X_test_, y_test_, trained_models_):\n",
    "        self.X_test_ = X_test_\n",
    "        self.y_test_ = y_test_\n",
    "        self.trained_models_ = trained_models_\n",
    "        self.scores_ = []\n",
    "        self.accuracies_ = []\n",
    "    \n",
    "    def model_predict(self):\n",
    "        for model in self.trained_models_:\n",
    "            self.accuracies_.append(accuracy_score(model.predict(self.X_test_), self.y_test_))"
   ],
   "metadata": {
    "collapsed": false
   },
   "id": "b91058802d49cf20"
  },
  {
   "cell_type": "code",
   "outputs": [],
   "source": [],
   "metadata": {
    "collapsed": false
   },
   "id": "f29908a5f20eed97"
  }
 ],
 "metadata": {
  "kernelspec": {
   "display_name": "Python 3",
   "language": "python",
   "name": "python3"
  },
  "language_info": {
   "codemirror_mode": {
    "name": "ipython",
    "version": 2
   },
   "file_extension": ".py",
   "mimetype": "text/x-python",
   "name": "python",
   "nbconvert_exporter": "python",
   "pygments_lexer": "ipython2",
   "version": "2.7.6"
  }
 },
 "nbformat": 4,
 "nbformat_minor": 5
}
